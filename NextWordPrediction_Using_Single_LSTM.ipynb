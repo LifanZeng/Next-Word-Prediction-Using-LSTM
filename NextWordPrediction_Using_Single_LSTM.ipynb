{
  "cells": [
    {
      "cell_type": "code",
      "execution_count": null,
      "metadata": {
        "id": "ao4Pj7BcRz6i"
      },
      "outputs": [],
      "source": [
        "import tensorflow as tf\n",
        "from tensorflow.keras.preprocessing.text import Tokenizer\n",
        "from tensorflow.keras.layers import Embedding, LSTM, Dense\n",
        "from tensorflow.keras.models import Sequential\n",
        "from tensorflow.keras.utils import to_categorical\n",
        "from tensorflow.keras.optimizers import Adam\n",
        "import pickle\n",
        "import numpy as np\n",
        "import os"
      ]
    },
    {
      "cell_type": "code",
      "execution_count": null,
      "metadata": {
        "colab": {
          "base_uri": "https://localhost:8080/",
          "height": 72
        },
        "id": "RiY09BdASm5U",
        "outputId": "2833ca56-16a4-4358-9e43-f872fbbf455c"
      },
      "outputs": [
        {
          "output_type": "display_data",
          "data": {
            "text/plain": [
              "<IPython.core.display.HTML object>"
            ],
            "text/html": [
              "\n",
              "     <input type=\"file\" id=\"files-b9610b02-c51d-4ead-85d2-e687507c9b90\" name=\"files[]\" multiple disabled\n",
              "        style=\"border:none\" />\n",
              "     <output id=\"result-b9610b02-c51d-4ead-85d2-e687507c9b90\">\n",
              "      Upload widget is only available when the cell has been executed in the\n",
              "      current browser session. Please rerun this cell to enable.\n",
              "      </output>\n",
              "      <script>// Copyright 2017 Google LLC\n",
              "//\n",
              "// Licensed under the Apache License, Version 2.0 (the \"License\");\n",
              "// you may not use this file except in compliance with the License.\n",
              "// You may obtain a copy of the License at\n",
              "//\n",
              "//      http://www.apache.org/licenses/LICENSE-2.0\n",
              "//\n",
              "// Unless required by applicable law or agreed to in writing, software\n",
              "// distributed under the License is distributed on an \"AS IS\" BASIS,\n",
              "// WITHOUT WARRANTIES OR CONDITIONS OF ANY KIND, either express or implied.\n",
              "// See the License for the specific language governing permissions and\n",
              "// limitations under the License.\n",
              "\n",
              "/**\n",
              " * @fileoverview Helpers for google.colab Python module.\n",
              " */\n",
              "(function(scope) {\n",
              "function span(text, styleAttributes = {}) {\n",
              "  const element = document.createElement('span');\n",
              "  element.textContent = text;\n",
              "  for (const key of Object.keys(styleAttributes)) {\n",
              "    element.style[key] = styleAttributes[key];\n",
              "  }\n",
              "  return element;\n",
              "}\n",
              "\n",
              "// Max number of bytes which will be uploaded at a time.\n",
              "const MAX_PAYLOAD_SIZE = 100 * 1024;\n",
              "\n",
              "function _uploadFiles(inputId, outputId) {\n",
              "  const steps = uploadFilesStep(inputId, outputId);\n",
              "  const outputElement = document.getElementById(outputId);\n",
              "  // Cache steps on the outputElement to make it available for the next call\n",
              "  // to uploadFilesContinue from Python.\n",
              "  outputElement.steps = steps;\n",
              "\n",
              "  return _uploadFilesContinue(outputId);\n",
              "}\n",
              "\n",
              "// This is roughly an async generator (not supported in the browser yet),\n",
              "// where there are multiple asynchronous steps and the Python side is going\n",
              "// to poll for completion of each step.\n",
              "// This uses a Promise to block the python side on completion of each step,\n",
              "// then passes the result of the previous step as the input to the next step.\n",
              "function _uploadFilesContinue(outputId) {\n",
              "  const outputElement = document.getElementById(outputId);\n",
              "  const steps = outputElement.steps;\n",
              "\n",
              "  const next = steps.next(outputElement.lastPromiseValue);\n",
              "  return Promise.resolve(next.value.promise).then((value) => {\n",
              "    // Cache the last promise value to make it available to the next\n",
              "    // step of the generator.\n",
              "    outputElement.lastPromiseValue = value;\n",
              "    return next.value.response;\n",
              "  });\n",
              "}\n",
              "\n",
              "/**\n",
              " * Generator function which is called between each async step of the upload\n",
              " * process.\n",
              " * @param {string} inputId Element ID of the input file picker element.\n",
              " * @param {string} outputId Element ID of the output display.\n",
              " * @return {!Iterable<!Object>} Iterable of next steps.\n",
              " */\n",
              "function* uploadFilesStep(inputId, outputId) {\n",
              "  const inputElement = document.getElementById(inputId);\n",
              "  inputElement.disabled = false;\n",
              "\n",
              "  const outputElement = document.getElementById(outputId);\n",
              "  outputElement.innerHTML = '';\n",
              "\n",
              "  const pickedPromise = new Promise((resolve) => {\n",
              "    inputElement.addEventListener('change', (e) => {\n",
              "      resolve(e.target.files);\n",
              "    });\n",
              "  });\n",
              "\n",
              "  const cancel = document.createElement('button');\n",
              "  inputElement.parentElement.appendChild(cancel);\n",
              "  cancel.textContent = 'Cancel upload';\n",
              "  const cancelPromise = new Promise((resolve) => {\n",
              "    cancel.onclick = () => {\n",
              "      resolve(null);\n",
              "    };\n",
              "  });\n",
              "\n",
              "  // Wait for the user to pick the files.\n",
              "  const files = yield {\n",
              "    promise: Promise.race([pickedPromise, cancelPromise]),\n",
              "    response: {\n",
              "      action: 'starting',\n",
              "    }\n",
              "  };\n",
              "\n",
              "  cancel.remove();\n",
              "\n",
              "  // Disable the input element since further picks are not allowed.\n",
              "  inputElement.disabled = true;\n",
              "\n",
              "  if (!files) {\n",
              "    return {\n",
              "      response: {\n",
              "        action: 'complete',\n",
              "      }\n",
              "    };\n",
              "  }\n",
              "\n",
              "  for (const file of files) {\n",
              "    const li = document.createElement('li');\n",
              "    li.append(span(file.name, {fontWeight: 'bold'}));\n",
              "    li.append(span(\n",
              "        `(${file.type || 'n/a'}) - ${file.size} bytes, ` +\n",
              "        `last modified: ${\n",
              "            file.lastModifiedDate ? file.lastModifiedDate.toLocaleDateString() :\n",
              "                                    'n/a'} - `));\n",
              "    const percent = span('0% done');\n",
              "    li.appendChild(percent);\n",
              "\n",
              "    outputElement.appendChild(li);\n",
              "\n",
              "    const fileDataPromise = new Promise((resolve) => {\n",
              "      const reader = new FileReader();\n",
              "      reader.onload = (e) => {\n",
              "        resolve(e.target.result);\n",
              "      };\n",
              "      reader.readAsArrayBuffer(file);\n",
              "    });\n",
              "    // Wait for the data to be ready.\n",
              "    let fileData = yield {\n",
              "      promise: fileDataPromise,\n",
              "      response: {\n",
              "        action: 'continue',\n",
              "      }\n",
              "    };\n",
              "\n",
              "    // Use a chunked sending to avoid message size limits. See b/62115660.\n",
              "    let position = 0;\n",
              "    do {\n",
              "      const length = Math.min(fileData.byteLength - position, MAX_PAYLOAD_SIZE);\n",
              "      const chunk = new Uint8Array(fileData, position, length);\n",
              "      position += length;\n",
              "\n",
              "      const base64 = btoa(String.fromCharCode.apply(null, chunk));\n",
              "      yield {\n",
              "        response: {\n",
              "          action: 'append',\n",
              "          file: file.name,\n",
              "          data: base64,\n",
              "        },\n",
              "      };\n",
              "\n",
              "      let percentDone = fileData.byteLength === 0 ?\n",
              "          100 :\n",
              "          Math.round((position / fileData.byteLength) * 100);\n",
              "      percent.textContent = `${percentDone}% done`;\n",
              "\n",
              "    } while (position < fileData.byteLength);\n",
              "  }\n",
              "\n",
              "  // All done.\n",
              "  yield {\n",
              "    response: {\n",
              "      action: 'complete',\n",
              "    }\n",
              "  };\n",
              "}\n",
              "\n",
              "scope.google = scope.google || {};\n",
              "scope.google.colab = scope.google.colab || {};\n",
              "scope.google.colab._files = {\n",
              "  _uploadFiles,\n",
              "  _uploadFilesContinue,\n",
              "};\n",
              "})(self);\n",
              "</script> "
            ]
          },
          "metadata": {}
        },
        {
          "output_type": "stream",
          "name": "stdout",
          "text": [
            "Saving Pride_and_Prejudice.txt to Pride_and_Prejudice.txt\n"
          ]
        }
      ],
      "source": [
        "from google.colab import files\n",
        "file = files.upload()"
      ]
    },
    {
      "cell_type": "code",
      "execution_count": null,
      "metadata": {
        "id": "ELBbRdVhSn5M"
      },
      "outputs": [],
      "source": [
        "file = open(\"Pride_and_Prejudice.txt\", \"r\", encoding = \"utf8\")\n",
        "\n",
        "# store file in list\n",
        "lines = []\n",
        "for i in file:\n",
        "  lines.append(i)\n",
        "\n",
        "# Convert list to string\n",
        "data = \"\"\n",
        "for i in lines:\n",
        "  data = ''.join(lines)\n",
        "\n",
        "# replace unnecessary stuff with space\n",
        "data = data.replace('\\n', ' ').replace('\\r', ' ').replace('\\ufeff', ' ').replace('“', ' ').replace('”', ' ').replace('.', ' ').replace(',', ' ').replace(':', ' ')\n",
        "data = data.replace('[', ' ').replace(']', ' ').replace('(', ' ').replace(')', ' ').replace('_', ' ').replace('*', ' ').replace('#', ' ')\n",
        "data = data.replace('/', '').replace('!', ' ')"
      ]
    },
    {
      "cell_type": "code",
      "execution_count": null,
      "metadata": {
        "colab": {
          "base_uri": "https://localhost:8080/",
          "height": 104
        },
        "id": "EPJ89dHCUfhw",
        "outputId": "a6b5dfd4-d561-40b7-8cca-274ac03f4ff5"
      },
      "outputs": [
        {
          "output_type": "execute_result",
          "data": {
            "text/plain": [
              "'the project gutenberg ebook of pride and prejudice by jane austen this ebook is for the use of anyone anywhere in the united states and most other parts of the world at no cost and with almost no restrictions whatsoever you may copy it give it away or re-use it under the terms of the project gutenberg license included with this ebook or online at www gutenberg org if you are not located in the united states you will have to check the laws of the country where you are located before using this ebook title pride and prejudice author jane austen release date november 12 2022 ebook 1342 most recently updated march 14 2023 language english produced by chuck greif and the online distributed proofreading team at http www pgdp net this file was produced from images available at the internet archive start of the project gutenberg ebook pride and prejudice illustration george allen publisher 156 charing cross road london ruskin house illustration reading jane’s letters chap 34 pride and prejudice by jane austen with a preface by george saintsbury and illustrations by hugh thomson illustration 1894 ruskin 156 charing house cross road london george allen chiswick press --charles whittingham and co tooks court chancery lane london illustration to j comyns carr in acknowledgment of all i owe to his friendship and advice these illustrations are gratefully inscribed hugh thomson preface illustration walt whitman has somewhere a fine and just distinction between loving by allowance and loving with personal love this distinction applies to books as well as to men and women; and in the case of the not very numerous authors who are the objects of the personal affection it brings a curious consequence with it there is much more difference as to their best work than in the case of those others who are loved by allowance by convention and because it is felt to be the right and proper thing to love them and in the sect--fairly large and yet unusually choice--of austenians or janites there would probably be found partisans of the claim to primacy of almost every one of the novels to some the delightful freshness and humour of northanger abbey its completeness finish and entrain obscure the undoubted critical facts that its scale is small and its scheme after all that of burlesque or parody a kind in which the first rank is reached with difficulty persuasion relatively faint in tone and not enthralling in interest has devotees who exalt above all the others its exquisite delicacy and keeping the catastrophe of mansfield park is admittedly theatrical the hero and heroine are insipid and the author has almost wickedly destroyed all romantic interest by expressly admitting that edmund only took fanny because mary shocked him and that fanny might very likely have taken crawford if he had been a little more assiduous; yet the matchless rehearsal-scenes and the characters of mrs norris and others have secured i believe a considerable party for it sense and sensibility has perhaps the fewest out-and-out admirers; but it does not want them i suppose however that the majority of at least competent votes would all things considered be divided between emma and the present book; and perhaps the vulgar verdict if indeed a fondness for miss austen be not of itself a patent of exemption from any possible charge of vulgarity would go for emma it is the larger the more varied the more popular; the author had by the time of its composition seen rather more of the world and had improved her general though not her most peculiar and characteristic dialogue; such figures as miss bates as the eltons cannot but unite the suffrages of everybody on the other hand i for my part declare for pride and prejudice unhesitatingly it seems to me the most perfect the most characteristic the most eminently quintessential of its author’s works; and for this contention in such narrow space as is permitted to me i propose here to show cause in the first place the book it may be barely necessary to remind the reader was in its first shape written very early somewhere about 1796 when miss austen was barely twenty-one; though it was revised and finished at chawton some fifteen years later and was not published till 1813 only four years before her death i do not know whether in this combination of the fresh and vigorous projection of youth and the critical revision of middle life there may be traced the distinct superiority in point of construction which as it seems to me it possesses over all the others the plot though not elaborate is almost regular enough for fielding; hardly a character hardly an incident could be retrenched without loss to the story the elopement of lydia and wickham is not like that of crawford and mrs rushworth a coup de théâtre; it connects itself in the strictest way with the course of the story earlier and brings about the denouement with complete propriety all the minor passages--the loves of jane and bingley the advent of mr collins the visit to '"
            ],
            "application/vnd.google.colaboratory.intrinsic+json": {
              "type": "string"
            }
          },
          "metadata": {},
          "execution_count": 4
        }
      ],
      "source": [
        "#remove unnecessary spaces\n",
        "data = data.split()\n",
        "data = ' '.join(data)\n",
        "data = data.lower()\n",
        "data[:5000]"
      ]
    },
    {
      "cell_type": "code",
      "execution_count": null,
      "metadata": {
        "colab": {
          "base_uri": "https://localhost:8080/"
        },
        "id": "zSa9kJmwUfqX",
        "outputId": "732ab32d-1d3f-46c6-ab88-57437724d868"
      },
      "outputs": [
        {
          "output_type": "execute_result",
          "data": {
            "text/plain": [
              "715090"
            ]
          },
          "metadata": {},
          "execution_count": 5
        }
      ],
      "source": [
        "len(data)"
      ]
    },
    {
      "cell_type": "code",
      "execution_count": null,
      "metadata": {
        "id": "Js98gKVzUftZ"
      },
      "outputs": [],
      "source": [
        "#Tokenization:\n",
        "tokenizer = Tokenizer()  \n",
        "tokenizer.fit_on_texts([data])\n",
        "\n",
        "# saving the tokenizer for predict function\n",
        "# pickle.dump() and dumps() are used to serialize an object. The only difference between them is that dump() writes the data to a file, \n",
        "#    while dumps() represents it as a byte object. \n",
        "pickle.dump(tokenizer, open('token.pkl', 'wb'))"
      ]
    },
    {
      "cell_type": "code",
      "execution_count": null,
      "metadata": {
        "colab": {
          "base_uri": "https://localhost:8080/"
        },
        "id": "Ld3BH7J7bseO",
        "outputId": "70e5febd-6619-4ff9-8bc9-947900fa41c6"
      },
      "outputs": [
        {
          "output_type": "execute_result",
          "data": {
            "text/plain": [
              "[1, 182, 164, 1000, 3, 299, 4, 946, 30, 72, 710, 41, 1000, 23, 21]"
            ]
          },
          "metadata": {},
          "execution_count": 7
        }
      ],
      "source": [
        "sequence_data = tokenizer.texts_to_sequences([data])[0]\n",
        "sequence_data[:15]"
      ]
    },
    {
      "cell_type": "code",
      "execution_count": null,
      "metadata": {
        "colab": {
          "base_uri": "https://localhost:8080/"
        },
        "id": "E-L4C2Zod6hi",
        "outputId": "6b3d06aa-e900-4715-b83f-534d831f4c15"
      },
      "outputs": [
        {
          "output_type": "execute_result",
          "data": {
            "text/plain": [
              "131231"
            ]
          },
          "metadata": {},
          "execution_count": 8
        }
      ],
      "source": [
        "len(sequence_data)"
      ]
    },
    {
      "cell_type": "code",
      "execution_count": null,
      "metadata": {
        "colab": {
          "base_uri": "https://localhost:8080/"
        },
        "id": "6vBxoyiod6kg",
        "outputId": "bd170eba-9ff0-4042-f56c-7635dc3d275e"
      },
      "outputs": [
        {
          "output_type": "stream",
          "name": "stdout",
          "text": [
            "7255\n"
          ]
        }
      ],
      "source": [
        "vocab_size = len(tokenizer.word_index) + 1\n",
        "print(vocab_size) #.."
      ]
    },
    {
      "cell_type": "code",
      "execution_count": null,
      "metadata": {
        "colab": {
          "base_uri": "https://localhost:8080/"
        },
        "id": "_Ri4E4GlIwc2",
        "outputId": "143858da-77ba-4275-87d4-2c4e0f388367"
      },
      "outputs": [
        {
          "output_type": "stream",
          "name": "stdout",
          "text": [
            "The length of sequences are:  131226\n"
          ]
        },
        {
          "output_type": "execute_result",
          "data": {
            "text/plain": [
              "array([[   1,  182,  164, 1000,    3,  299],\n",
              "       [ 182,  164, 1000,    3,  299,    4],\n",
              "       [ 164, 1000,    3,  299,    4,  946],\n",
              "       [1000,    3,  299,    4,  946,   30],\n",
              "       [   3,  299,    4,  946,   30,   72],\n",
              "       [ 299,    4,  946,   30,   72,  710],\n",
              "       [   4,  946,   30,   72,  710,   41],\n",
              "       [ 946,   30,   72,  710,   41, 1000],\n",
              "       [  30,   72,  710,   41, 1000,   23],\n",
              "       [  72,  710,   41, 1000,   23,   21]])"
            ]
          },
          "metadata": {},
          "execution_count": 10
        }
      ],
      "source": [
        "#z\n",
        "\n",
        "sequences = []\n",
        "\n",
        "for i in range(5, len(sequence_data)):\n",
        "  words = sequence_data[i-5: i+1]\n",
        "  sequences.append(words)\n",
        "\n",
        "print(\"The length of sequences are: \", len(sequences))\n",
        "sequences = np.array(sequences)\n",
        "sequences[:10] #use 5 words, get next word."
      ]
    },
    {
      "cell_type": "code",
      "execution_count": null,
      "metadata": {
        "id": "a5GAkBYEIwfv"
      },
      "outputs": [],
      "source": [
        "X = []\n",
        "y = []\n",
        "\n",
        "\n",
        "for i in sequences:\n",
        "  X.append(i[0:5])\n",
        "  y.append(i[5])\n",
        "\n",
        "X = np.array(X)\n",
        "y = np.array(y)"
      ]
    },
    {
      "cell_type": "code",
      "execution_count": null,
      "metadata": {
        "colab": {
          "base_uri": "https://localhost:8080/"
        },
        "id": "CjQrz7zDIwjK",
        "outputId": "f6b8cd7f-e676-4f0b-8735-c578f7d94d81"
      },
      "outputs": [
        {
          "output_type": "execute_result",
          "data": {
            "text/plain": [
              "array([[   1,  182,  164, 1000,    3],\n",
              "       [ 182,  164, 1000,    3,  299],\n",
              "       [ 164, 1000,    3,  299,    4],\n",
              "       ...,\n",
              "       [ 201, 4362, 7254,    2,  231],\n",
              "       [4362, 7254,    2,  231,  126],\n",
              "       [7254,    2,  231,  126,  524]])"
            ]
          },
          "metadata": {},
          "execution_count": 12
        }
      ],
      "source": [
        "X"
      ]
    },
    {
      "cell_type": "code",
      "execution_count": null,
      "metadata": {
        "colab": {
          "base_uri": "https://localhost:8080/"
        },
        "id": "9sGjIActJFVg",
        "outputId": "0c8a6bbe-64c2-4519-8911-0ec41e2f6f0c"
      },
      "outputs": [
        {
          "output_type": "execute_result",
          "data": {
            "text/plain": [
              "(131226, 5)"
            ]
          },
          "metadata": {},
          "execution_count": 13
        }
      ],
      "source": [
        "X.shape"
      ]
    },
    {
      "cell_type": "code",
      "execution_count": null,
      "metadata": {
        "colab": {
          "base_uri": "https://localhost:8080/"
        },
        "id": "y4Q8not7JFYd",
        "outputId": "a4a78043-02f6-46e3-c102-d720c9602a4d"
      },
      "outputs": [
        {
          "output_type": "execute_result",
          "data": {
            "text/plain": [
              "array([ 299,    4,  946, ...,  126,  524, 1756])"
            ]
          },
          "metadata": {},
          "execution_count": 14
        }
      ],
      "source": [
        "y"
      ]
    },
    {
      "cell_type": "code",
      "execution_count": null,
      "metadata": {
        "colab": {
          "base_uri": "https://localhost:8080/"
        },
        "id": "jSv6825AJ988",
        "outputId": "a5c37c41-c0bf-4acd-a0b4-d6d7571bc4b0"
      },
      "outputs": [
        {
          "output_type": "execute_result",
          "data": {
            "text/plain": [
              "array([[0., 0., 0., ..., 0., 0., 0.],\n",
              "       [0., 0., 0., ..., 0., 0., 0.],\n",
              "       [0., 0., 0., ..., 0., 0., 0.],\n",
              "       [0., 0., 0., ..., 0., 0., 0.],\n",
              "       [0., 0., 0., ..., 0., 0., 0.]], dtype=float32)"
            ]
          },
          "metadata": {},
          "execution_count": 15
        }
      ],
      "source": [
        "y = to_categorical(y, num_classes=vocab_size)\n",
        "y[:5]"
      ]
    },
    {
      "cell_type": "code",
      "execution_count": null,
      "metadata": {
        "id": "rT7iIAF3JFbx"
      },
      "outputs": [],
      "source": [
        "from sklearn.model_selection import train_test_split\n",
        "\n",
        "X_train, X_test, y_train,  y_test = train_test_split(X, y, test_size = 0.2, random_state=42)"
      ]
    },
    {
      "cell_type": "code",
      "execution_count": null,
      "metadata": {
        "id": "TUEHxIf1JFfv",
        "colab": {
          "base_uri": "https://localhost:8080/"
        },
        "outputId": "8d558d7e-a1c7-4746-8012-19b868945950"
      },
      "outputs": [
        {
          "output_type": "execute_result",
          "data": {
            "text/plain": [
              "array([[0., 0., 0., ..., 0., 0., 0.],\n",
              "       [0., 0., 0., ..., 0., 0., 0.],\n",
              "       [0., 0., 0., ..., 0., 0., 0.],\n",
              "       [0., 0., 0., ..., 0., 0., 0.],\n",
              "       [0., 0., 0., ..., 0., 0., 0.]], dtype=float32)"
            ]
          },
          "metadata": {},
          "execution_count": 17
        }
      ],
      "source": [
        "X_valid = []\n",
        "y_valid = []\n",
        "\n",
        "for i in range(3, len(sequence_data)-5, 6):\n",
        "  X_valid.append(sequence_data[i:i+5])\n",
        "  y_valid.append(sequence_data[i+5])\n",
        "\n",
        "X_valid = np.array(X_valid)\n",
        "y_valid = np.array(y_valid)\n",
        "y_valid = to_categorical(y_valid, num_classes=vocab_size)\n",
        "y_valid[:5]"
      ]
    },
    {
      "cell_type": "code",
      "execution_count": null,
      "metadata": {
        "id": "rHp9VMA2JUhv",
        "colab": {
          "base_uri": "https://localhost:8080/"
        },
        "outputId": "0909a84a-4b92-41cd-cc52-7e77a0228316"
      },
      "outputs": [
        {
          "output_type": "stream",
          "name": "stdout",
          "text": [
            "(21871, 5)\n"
          ]
        },
        {
          "output_type": "execute_result",
          "data": {
            "text/plain": [
              "array([[1000,    3,  299,    4,  946],\n",
              "       [  72,  710,   41, 1000,   23],\n",
              "       [   1,  507,    3,  549, 2654],\n",
              "       ...,\n",
              "       [  78,    2,  363, 1945,  201],\n",
              "       [1756,    4,   78,    2, 7253],\n",
              "       [ 201, 4362, 7254,    2,  231]])"
            ]
          },
          "metadata": {},
          "execution_count": 18
        }
      ],
      "source": [
        "print(X_valid.shape)\n",
        "X_valid"
      ]
    },
    {
      "cell_type": "code",
      "execution_count": null,
      "metadata": {
        "id": "0QTGooMtJUko",
        "colab": {
          "base_uri": "https://localhost:8080/"
        },
        "outputId": "fda62f62-9e2c-438e-c5fc-ca037923c843"
      },
      "outputs": [
        {
          "output_type": "stream",
          "name": "stdout",
          "text": [
            "(21871, 7255)\n"
          ]
        },
        {
          "output_type": "execute_result",
          "data": {
            "text/plain": [
              "array([[0., 0., 0., ..., 0., 0., 0.],\n",
              "       [0., 0., 0., ..., 0., 0., 0.],\n",
              "       [0., 0., 0., ..., 0., 0., 0.],\n",
              "       ...,\n",
              "       [0., 0., 0., ..., 0., 0., 0.],\n",
              "       [0., 0., 1., ..., 0., 0., 0.],\n",
              "       [0., 0., 0., ..., 0., 0., 0.]], dtype=float32)"
            ]
          },
          "metadata": {},
          "execution_count": 19
        }
      ],
      "source": [
        "print(y_valid.shape)\n",
        "y_valid"
      ]
    },
    {
      "cell_type": "code",
      "execution_count": null,
      "metadata": {
        "id": "p00x1SdikZlL",
        "colab": {
          "base_uri": "https://localhost:8080/"
        },
        "outputId": "d6ec6098-c115-4d71-8beb-63c83b5861fb"
      },
      "outputs": [
        {
          "output_type": "stream",
          "name": "stdout",
          "text": [
            "Model: \"sequential_1\"\n",
            "_________________________________________________________________\n",
            " Layer (type)                Output Shape              Param #   \n",
            "=================================================================\n",
            " embedding_1 (Embedding)     (None, 5, 10)             72550     \n",
            "                                                                 \n",
            " lstm_1 (LSTM)               (None, 512)               1071104   \n",
            "                                                                 \n",
            " dense_1 (Dense)             (None, 7255)              3721815   \n",
            "                                                                 \n",
            "=================================================================\n",
            "Total params: 4,865,469\n",
            "Trainable params: 4,865,469\n",
            "Non-trainable params: 0\n",
            "_________________________________________________________________\n"
          ]
        }
      ],
      "source": [
        "# simple LSTM\n",
        "from keras.models import Sequential\n",
        "from keras.layers import LSTM, Embedding, Dense, Flatten\n",
        "\n",
        "# vocabulary = 10000\n",
        "embedding_dim = 10\n",
        "word_num = 5\n",
        "# state_dim = 10\n",
        "\n",
        "# model = Sequential()\n",
        "# model.add(Embedding(vocabulary, embedding_dim, input_length=word_num))\n",
        "# model.add(LSTM(state_dim, return_sequences=False))\n",
        "# model.add(Dense(1, activation='softmax'))\n",
        "# model.summary()\n",
        "\n",
        "\n",
        "\n",
        "model = Sequential()\n",
        "model.add(Embedding(vocab_size, embedding_dim, input_length=word_num))\n",
        "model.add(LSTM(512, return_sequences=False))\n",
        "model.add(Dense(vocab_size, activation='softmax'))\n",
        "model.summary()"
      ]
    },
    {
      "cell_type": "code",
      "execution_count": null,
      "metadata": {
        "id": "yRZyPShDvTec",
        "colab": {
          "base_uri": "https://localhost:8080/",
          "height": 369
        },
        "outputId": "0c5f3b9e-3834-4caa-acf6-884440123d6a"
      },
      "outputs": [
        {
          "output_type": "execute_result",
          "data": {
            "image/png": "[encoded data removed]",
            "text/plain": [
              "<IPython.core.display.Image object>"
            ]
          },
          "metadata": {},
          "execution_count": 24
        }
      ],
      "source": [
        "from keras.utils.vis_utils import plot_model\n",
        "\n",
        "plot_model(model, to_file='plot.png', show_layer_names=True)"
      ]
    },
    {
      "cell_type": "code",
      "execution_count": null,
      "metadata": {
        "id": "wxdnpGFzl3yg",
        "colab": {
          "base_uri": "https://localhost:8080/"
        },
        "outputId": "3029fd73-c4a1-4303-8e80-db05e7231460"
      },
      "outputs": [
        {
          "output_type": "stream",
          "name": "stdout",
          "text": [
            "Epoch 1/50\n",
            "3281/3281 [==============================] - 495s 150ms/step - loss: 6.3051 - acc: 0.0556 - val_loss: 5.8211 - val_acc: 0.0868\n",
            "Epoch 2/50\n",
            "3281/3281 [==============================] - 479s 146ms/step - loss: 5.6412 - acc: 0.1003 - val_loss: 5.4271 - val_acc: 0.1161\n",
            "Epoch 3/50\n",
            "3281/3281 [==============================] - 475s 145ms/step - loss: 5.3027 - acc: 0.1221 - val_loss: 5.1616 - val_acc: 0.1303\n",
            "Epoch 4/50\n",
            "3281/3281 [==============================] - 476s 145ms/step - loss: 5.0143 - acc: 0.1349 - val_loss: 4.8924 - val_acc: 0.1462\n",
            "Epoch 5/50\n",
            "3281/3281 [==============================] - 469s 143ms/step - loss: 4.7027 - acc: 0.1473 - val_loss: 4.5899 - val_acc: 0.1633\n",
            "Epoch 6/50\n",
            "3281/3281 [==============================] - 473s 144ms/step - loss: 4.3536 - acc: 0.1657 - val_loss: 4.2586 - val_acc: 0.2046\n",
            "Epoch 7/50\n",
            "3281/3281 [==============================] - 470s 143ms/step - loss: 3.9681 - acc: 0.1975 - val_loss: 3.9456 - val_acc: 0.2500\n",
            "Epoch 8/50\n",
            "3281/3281 [==============================] - 467s 142ms/step - loss: 3.5620 - acc: 0.2463 - val_loss: 3.6333 - val_acc: 0.3054\n",
            "Epoch 9/50\n",
            "3281/3281 [==============================] - 472s 144ms/step - loss: 3.1575 - acc: 0.3061 - val_loss: 3.3591 - val_acc: 0.3671\n",
            "Epoch 10/50\n",
            "3281/3281 [==============================] - 471s 144ms/step - loss: 2.7700 - acc: 0.3740 - val_loss: 3.1175 - val_acc: 0.4266\n",
            "Epoch 11/50\n",
            "3281/3281 [==============================] - 473s 144ms/step - loss: 2.4025 - acc: 0.4447 - val_loss: 2.8739 - val_acc: 0.4860\n",
            "Epoch 12/50\n",
            "3281/3281 [==============================] - 473s 144ms/step - loss: 2.0641 - acc: 0.5165 - val_loss: 2.7016 - val_acc: 0.5403\n",
            "Epoch 13/50\n",
            "3281/3281 [==============================] - 474s 145ms/step - loss: 1.7484 - acc: 0.5870 - val_loss: 2.5250 - val_acc: 0.5938\n",
            "Epoch 14/50\n",
            "3281/3281 [==============================] - 480s 146ms/step - loss: 1.4659 - acc: 0.6523 - val_loss: 2.4029 - val_acc: 0.6371\n",
            "Epoch 15/50\n",
            "3281/3281 [==============================] - 475s 145ms/step - loss: 1.2148 - acc: 0.7141 - val_loss: 2.2899 - val_acc: 0.6796\n",
            "Epoch 16/50\n",
            "3281/3281 [==============================] - 478s 146ms/step - loss: 0.9911 - acc: 0.7694 - val_loss: 2.2212 - val_acc: 0.7077\n",
            "Epoch 17/50\n",
            "3281/3281 [==============================] - 481s 147ms/step - loss: 0.8024 - acc: 0.8163 - val_loss: 2.1672 - val_acc: 0.7341\n",
            "Epoch 18/50\n",
            "3281/3281 [==============================] - 472s 144ms/step - loss: 0.6444 - acc: 0.8564 - val_loss: 2.1514 - val_acc: 0.7520\n",
            "Epoch 19/50\n",
            "3281/3281 [==============================] - 474s 144ms/step - loss: 0.5207 - acc: 0.8880 - val_loss: 2.1487 - val_acc: 0.7630\n",
            "Epoch 20/50\n",
            "3281/3281 [==============================] - 478s 146ms/step - loss: 0.4260 - acc: 0.9107 - val_loss: 2.1555 - val_acc: 0.7742\n",
            "Epoch 21/50\n",
            "3281/3281 [==============================] - 474s 144ms/step - loss: 0.3549 - acc: 0.9279 - val_loss: 2.1733 - val_acc: 0.7818\n",
            "Epoch 22/50\n",
            "3281/3281 [==============================] - 480s 146ms/step - loss: 0.2987 - acc: 0.9415 - val_loss: 2.2098 - val_acc: 0.7806\n",
            "Epoch 23/50\n",
            "3281/3281 [==============================] - 490s 149ms/step - loss: 0.2696 - acc: 0.9475 - val_loss: 2.2448 - val_acc: 0.7854\n",
            "Epoch 24/50\n",
            "3281/3281 [==============================] - 487s 149ms/step - loss: 0.2439 - acc: 0.9514 - val_loss: 2.2693 - val_acc: 0.7869\n",
            "Epoch 25/50\n",
            "3281/3281 [==============================] - 483s 147ms/step - loss: 0.2207 - acc: 0.9561 - val_loss: 2.3031 - val_acc: 0.7877\n",
            "Epoch 26/50\n",
            "3281/3281 [==============================] - 483s 147ms/step - loss: 0.2095 - acc: 0.9583 - val_loss: 2.3295 - val_acc: 0.7888\n",
            "Epoch 27/50\n",
            "3281/3281 [==============================] - 483s 147ms/step - loss: 0.1978 - acc: 0.9602 - val_loss: 2.3631 - val_acc: 0.7871\n",
            "Epoch 28/50\n",
            "3281/3281 [==============================] - 486s 148ms/step - loss: 0.1907 - acc: 0.9601 - val_loss: 2.3797 - val_acc: 0.7903\n",
            "Epoch 29/50\n",
            "3281/3281 [==============================] - 473s 144ms/step - loss: 0.1824 - acc: 0.9614 - val_loss: 2.4203 - val_acc: 0.7857\n",
            "Epoch 30/50\n",
            "3281/3281 [==============================] - 475s 145ms/step - loss: 0.1761 - acc: 0.9632 - val_loss: 2.4368 - val_acc: 0.7897\n",
            "Epoch 31/50\n",
            "3281/3281 [==============================] - 471s 144ms/step - loss: 0.1735 - acc: 0.9630 - val_loss: 2.4538 - val_acc: 0.7914\n",
            "Epoch 32/50\n",
            "3281/3281 [==============================] - 474s 145ms/step - loss: 0.1653 - acc: 0.9649 - val_loss: 2.4787 - val_acc: 0.7891\n",
            "Epoch 33/50\n",
            "3281/3281 [==============================] - 474s 145ms/step - loss: 0.1657 - acc: 0.9635 - val_loss: 2.4924 - val_acc: 0.7924\n",
            "Epoch 34/50\n",
            "3281/3281 [==============================] - 472s 144ms/step - loss: 0.1610 - acc: 0.9641 - val_loss: 2.4894 - val_acc: 0.7913\n",
            "Epoch 35/50\n",
            "3281/3281 [==============================] - 470s 143ms/step - loss: 0.1583 - acc: 0.9644 - val_loss: 2.5142 - val_acc: 0.7902\n",
            "Epoch 36/50\n",
            "3281/3281 [==============================] - 472s 144ms/step - loss: 0.1514 - acc: 0.9661 - val_loss: 2.5319 - val_acc: 0.7917\n",
            "Epoch 37/50\n",
            "3281/3281 [==============================] - 472s 144ms/step - loss: 0.1562 - acc: 0.9641 - val_loss: 2.5591 - val_acc: 0.7894\n",
            "Epoch 38/50\n",
            "3281/3281 [==============================] - 468s 143ms/step - loss: 0.1499 - acc: 0.9664 - val_loss: 2.5852 - val_acc: 0.7899\n",
            "Epoch 39/50\n",
            "3281/3281 [==============================] - 471s 144ms/step - loss: 0.1515 - acc: 0.9657 - val_loss: 2.5719 - val_acc: 0.7891\n",
            "Epoch 40/50\n",
            "3281/3281 [==============================] - 474s 145ms/step - loss: 0.1493 - acc: 0.9649 - val_loss: 2.6090 - val_acc: 0.7900\n",
            "Epoch 41/50\n",
            "3281/3281 [==============================] - 477s 145ms/step - loss: 0.1479 - acc: 0.9653 - val_loss: 2.6255 - val_acc: 0.7898\n",
            "Epoch 42/50\n",
            "3281/3281 [==============================] - 475s 145ms/step - loss: 0.1453 - acc: 0.9658 - val_loss: 2.6234 - val_acc: 0.7903\n",
            "Epoch 43/50\n",
            "3281/3281 [==============================] - 475s 145ms/step - loss: 0.1454 - acc: 0.9658 - val_loss: 2.6532 - val_acc: 0.7894\n",
            "Epoch 44/50\n",
            "3281/3281 [==============================] - 476s 145ms/step - loss: 0.1452 - acc: 0.9651 - val_loss: 2.6807 - val_acc: 0.7882\n",
            "Epoch 45/50\n",
            "3281/3281 [==============================] - 479s 146ms/step - loss: 0.1423 - acc: 0.9653 - val_loss: 2.6991 - val_acc: 0.7889\n",
            "Epoch 46/50\n",
            "3281/3281 [==============================] - 476s 145ms/step - loss: 0.1410 - acc: 0.9661 - val_loss: 2.6926 - val_acc: 0.7904\n",
            "Epoch 47/50\n",
            "3281/3281 [==============================] - 473s 144ms/step - loss: 0.1412 - acc: 0.9659 - val_loss: 2.6989 - val_acc: 0.7905\n",
            "Epoch 48/50\n",
            "3281/3281 [==============================] - 470s 143ms/step - loss: 0.1442 - acc: 0.9649 - val_loss: 2.7053 - val_acc: 0.7926\n",
            "Epoch 49/50\n",
            "3281/3281 [==============================] - 469s 143ms/step - loss: 0.1367 - acc: 0.9663 - val_loss: 2.7233 - val_acc: 0.7902\n",
            "Epoch 50/50\n",
            "2471/3281 [=====================>........] - ETA: 1:51 - loss: 0.1224 - acc: 0.9708"
          ]
        }
      ],
      "source": [
        "from keras import optimizers\n",
        "\n",
        "epochs = 50\n",
        "\n",
        "# model.compile(optimizer=Adam(learning_rate=0.001), loss='categorical_crossentropy', metrics=['acc'])\n",
        "\n",
        "# model.fit(X_train, y_train, epochs=epochs, batch_size=32, validation_data=(X_valid, y_valid))\n",
        "\n",
        "\n",
        "\n",
        "\n",
        "\n",
        "# from tensorflow.keras.callbacks import ModelCheckpoint\n",
        "# checkpoint = ModelCheckpoint(\"next_words.h5\", monitor='loss', verbose=1, save_best_only=True)\n",
        "# model.compile(loss=\"categorical_crossentropy\", optimizer=Adam(learning_rate=0.001))\n",
        "# model.fit(X, y, epochs=10, batch_size=64, callbacks=[checkpoint])\n",
        "\n",
        "\n",
        "model.compile(optimizer=Adam(learning_rate=0.001), loss='categorical_crossentropy', metrics=['acc'])\n",
        "\n",
        "model.fit(X_train, y_train, epochs=epochs, batch_size=32, validation_data=(X_valid, y_valid))\n",
        "\n"
      ]
    },
    {
      "cell_type": "code",
      "execution_count": null,
      "metadata": {
        "id": "LncrnWSMm_qa"
      },
      "outputs": [],
      "source": [
        "# Prediction\n",
        "\n",
        "def Prediction_next_word(text):\n",
        "  sequence_text = tokenizer.texts_to_sequences([text])\n",
        "  sequence_text = np.array(sequence_text)\n",
        "  preds = np.argmax(model.predict(sequence_text))\n",
        "  predicted_word = \"\"\n",
        "\n",
        "  for key, value in tokenizer.word_index.items():\n",
        "    if value==preds:\n",
        "      predicted_word = key\n",
        "      break\n",
        "  \n",
        "  print(predicted_word)\n",
        "  return predicted_word"
      ]
    },
    {
      "cell_type": "code",
      "execution_count": null,
      "metadata": {
        "id": "wdG5cnTwOoHT"
      },
      "outputs": [],
      "source": [
        "while(True):\n",
        "  text = input(\"Enter your line: \")\n",
        "\n",
        "  if text == \"0\":\n",
        "    print(\"Excution completed.\")\n",
        "    break\n",
        "\n",
        "  else:\n",
        "    try:\n",
        "      text = text.split(\" \")\n",
        "      \n",
        "      text = text[-5:]\n",
        "      print(text)\n",
        "\n",
        "      Prediction_next_word(text)\n",
        "    \n",
        "    except Exception as e:\n",
        "      print(\"Error occured: \", e)\n",
        "      continue"
      ]
    }
  ],
  "metadata": {
    "colab": {
      "provenance": []
    },
    "gpuClass": "standard",
    "kernelspec": {
      "display_name": "Python 3",
      "name": "python3"
    },
    "language_info": {
      "name": "python"
    }
  },
  "nbformat": 4,
  "nbformat_minor": 0
}